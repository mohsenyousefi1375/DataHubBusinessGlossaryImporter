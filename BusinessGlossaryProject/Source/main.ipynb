{
 "cells": [
  {
   "cell_type": "code",
   "execution_count": 1,
   "id": "29ce334f",
   "metadata": {},
   "outputs": [
    {
     "name": "stderr",
     "output_type": "stream",
     "text": [
      "INFO:Service.Utils:Created node: urn:li:glossaryNode:operation\n",
      "INFO:Service.Utils:Created node: urn:li:glossaryNode:operation.general\n",
      "INFO:Service.Utils:Created term: urn:li:glossaryTerm:Driver3\n",
      "INFO:Service.Utils:Upserted group urn:li:corpGroup:Operation_team\n",
      "INFO:Service.Utils:Upserted group urn:li:corpGroup:BI_TEAM\n",
      "INFO:Service.Utils:Owner urn:li:corpuser:BI_TEAM already exists, omitting write\n",
      "INFO:Service.Utils:Owner urn:li:corpuser:Operation_team, type BUSINESS_OWNER added to dataset urn:li:glossaryTerm:Driver3\n"
     ]
    }
   ],
   "source": [
    "import yaml\n",
    "import sys, os\n",
    "sys.path.append(os.path.abspath(\"..\")) \n",
    "from Model.BusinessGlossaryModel import BusinessGlossaryModel \n",
    "from Service.DataHubGlossaryImporter import DataHubGlossaryImporter\n",
    "import Service.Utils as utils\n",
    "\n",
    "\n",
    "\n",
    "full_path = \"../template_business_glossary.yaml\"\n",
    "\n",
    "if full_path.endswith(\".yaml\") : \n",
    "    \n",
    "    with open(full_path) as stream:\n",
    "        data = yaml.safe_load(stream)\n",
    "        dataset = BusinessGlossaryModel(**data)\n",
    "        importer  = DataHubGlossaryImporter(dataset)\n",
    "\n",
    "\n",
    " "
   ]
  },
  {
   "cell_type": "code",
   "execution_count": 6,
   "id": "63628e76",
   "metadata": {},
   "outputs": [
    {
     "ename": "ImportError",
     "evalue": "cannot import name 'SchemaFieldKey' from 'datahub.metadata.schema_classes' (/home/mohsen1375/anaconda3/envs/datahub/lib/python3.12/site-packages/datahub/metadata/schema_classes.py)",
     "output_type": "error",
     "traceback": [
      "\u001b[0;31m---------------------------------------------------------------------------\u001b[0m",
      "\u001b[0;31mImportError\u001b[0m                               Traceback (most recent call last)",
      "Cell \u001b[0;32mIn[6], line 5\u001b[0m\n\u001b[1;32m      1\u001b[0m \u001b[38;5;28;01mfrom\u001b[39;00m \u001b[38;5;21;01mdatahub\u001b[39;00m\u001b[38;5;21;01m.\u001b[39;00m\u001b[38;5;21;01memitter\u001b[39;00m\u001b[38;5;21;01m.\u001b[39;00m\u001b[38;5;21;01mmce_builder\u001b[39;00m \u001b[38;5;28;01mimport\u001b[39;00m (\n\u001b[1;32m      2\u001b[0m     make_dataset_urn\n\u001b[1;32m      3\u001b[0m )\n\u001b[1;32m      4\u001b[0m \u001b[38;5;28;01mfrom\u001b[39;00m \u001b[38;5;21;01mdatahub\u001b[39;00m\u001b[38;5;21;01m.\u001b[39;00m\u001b[38;5;21;01memitter\u001b[39;00m\u001b[38;5;21;01m.\u001b[39;00m\u001b[38;5;21;01mrest_emitter\u001b[39;00m \u001b[38;5;28;01mimport\u001b[39;00m DatahubRestEmitter\n\u001b[0;32m----> 5\u001b[0m \u001b[38;5;28;01mfrom\u001b[39;00m \u001b[38;5;21;01mdatahub\u001b[39;00m\u001b[38;5;21;01m.\u001b[39;00m\u001b[38;5;21;01mmetadata\u001b[39;00m\u001b[38;5;21;01m.\u001b[39;00m\u001b[38;5;21;01mschema_classes\u001b[39;00m \u001b[38;5;28;01mimport\u001b[39;00m (\n\u001b[1;32m      6\u001b[0m     GlossaryNodeInfoClass,\n\u001b[1;32m      7\u001b[0m     GlossaryTermInfoClass,\n\u001b[1;32m      8\u001b[0m     GlossaryTermAssociationClass,\n\u001b[1;32m      9\u001b[0m     GlossaryTermsClass,\n\u001b[1;32m     10\u001b[0m     MetadataChangeProposalClass,\n\u001b[1;32m     11\u001b[0m     OwnershipClass,\n\u001b[1;32m     12\u001b[0m     OwnerClass,\n\u001b[1;32m     13\u001b[0m     OwnershipTypeClass,\n\u001b[1;32m     14\u001b[0m     SchemaFieldKey\n\u001b[1;32m     15\u001b[0m     )\n\u001b[1;32m     16\u001b[0m \u001b[38;5;28;01mfrom\u001b[39;00m \u001b[38;5;21;01mdatahub\u001b[39;00m\u001b[38;5;21;01m.\u001b[39;00m\u001b[38;5;21;01memitter\u001b[39;00m\u001b[38;5;21;01m.\u001b[39;00m\u001b[38;5;21;01mmcp\u001b[39;00m \u001b[38;5;28;01mimport\u001b[39;00m MetadataChangeProposalWrapper\n\u001b[1;32m     18\u001b[0m \u001b[38;5;66;03m# === CONFIGURATION ===\u001b[39;00m\n",
      "\u001b[0;31mImportError\u001b[0m: cannot import name 'SchemaFieldKey' from 'datahub.metadata.schema_classes' (/home/mohsen1375/anaconda3/envs/datahub/lib/python3.12/site-packages/datahub/metadata/schema_classes.py)"
     ]
    }
   ],
   "source": [
    "from datahub.emitter.mce_builder import (\n",
    "    make_dataset_urn\n",
    ")\n",
    "from datahub.emitter.rest_emitter import DatahubRestEmitter\n",
    "from datahub.metadata.schema_classes import (\n",
    "    GlossaryNodeInfoClass,\n",
    "    GlossaryTermInfoClass,\n",
    "    GlossaryTermAssociationClass,\n",
    "    GlossaryTermsClass,\n",
    "    MetadataChangeProposalClass,\n",
    "    OwnershipClass,\n",
    "    OwnerClass,\n",
    "    OwnershipTypeClass,\n",
    "    SchemaFieldKey\n",
    "    )\n",
    "from datahub.emitter.mcp import MetadataChangeProposalWrapper\n",
    "\n",
    "# === CONFIGURATION ===\n",
    "DATAHUB_HOST = \"http://localhost:8080\"  # or your DataHub URL\n",
    "DATASET_NAME = \"127_0_0_1-3306.base_api.test15\"  # e.g., 'fct_user_profile'\n",
    "PLATFORM = \"mysql\"  # e.g., bigquery, snowflake, hive, etc.\n",
    "ENV = \"PROD\"\n",
    "COLUMN_NAME = \"id\"\n",
    "GLOSSARY_TERM = \"Driver3\"  # Use full path: domain.termName\n",
    "\n",
    "# === BUILD URNs ===\n",
    "dataset_urn = make_dataset_urn(platform=PLATFORM, name=DATASET_NAME, env=ENV)\n",
    "glossary_term_urn = f\"urn:li:glossaryTerm:{GLOSSARY_TERM}\" \n",
    "\n",
    "# === CREATE EMITTER ===\n",
    "emitter = DatahubRestEmitter(gms_server=DATAHUB_HOST)\n",
    "\n",
    "# === LINK COLUMN TO GLOSSARY TERM ===\n",
    "mcp = MetadataChangeProposalWrapper(\n",
    "    entityUrn=dataset_urn,\n",
    "    entityType=\"dataset\",\n",
    "    aspectName=\"glossaryTerms\",\n",
    "    aspect=GlossaryTermsClass(\n",
    "        terms=[\n",
    "            GlossaryTermAssociationClass(\n",
    "                urn=glossary_term_urn,\n",
    "                context=SchemaFieldKey(fieldPath=COLUMN_NAME)  # field-level context\n",
    "            )\n",
    "        ]\n",
    "    ),\n",
    "    changeType=ChangeTypeClass.UPSERT,\n",
    ")\n",
    "\n",
    "# === EMIT THE PROPOSAL ===\n",
    "emitter.emit(mcp)\n",
    "\n",
    "print(f\"Glossary term {GLOSSARY_TERM} linked to column {COLUMN_NAME} in dataset {DATASET_NAME}\")\n"
   ]
  },
  {
   "cell_type": "code",
   "execution_count": null,
   "id": "84162906",
   "metadata": {},
   "outputs": [
    {
     "name": "stdout",
     "output_type": "stream",
     "text": [
      "✅ Linked column 'columnName1' in dataset '127_0_0_1-3306.base_api.test15' to glossary term 'Driver'\n"
     ]
    }
   ],
   "source": [
    "import time\n",
    "\n",
    "from datahub.emitter.mce_builder import make_dataset_urn\n",
    "from datahub.emitter.rest_emitter import DatahubRestEmitter\n",
    "from datahub.emitter.mcp import MetadataChangeProposalWrapper\n",
    "from datahub.metadata.schema_classes import (\n",
    "    GlossaryTermAssociationClass,\n",
    "    GlossaryTermsClass,\n",
    ")\n",
    "from datahub.metadata.com.linkedin.pegasus2avro.common import AuditStamp\n",
    " \n",
    "DATAHUB_HOST = \"http://localhost:8080\"\n",
    "DATASET_NAME = \"127_0_0_1-3306.base_api.test15\"\n",
    "PLATFORM = \"mysql\"\n",
    "ENV = \"PROD\"\n",
    "COLUMN_NAME = \"columnName1\"\n",
    "GLOSSARY_TERM = \"Driver\"\n",
    "ACTOR_URN = \"urn:li:corpuser:datahub\"\n",
    "\n",
    "dataset_urn = make_dataset_urn(platform=PLATFORM, name=DATASET_NAME, env=ENV)\n",
    "glossary_term_urn = f\"urn:li:glossaryTerm:{GLOSSARY_TERM}\"\n",
    "\n",
    "now_millis = int(time.time() * 1000)\n",
    "audit_stamp = AuditStamp(time=now_millis, actor=ACTOR_URN)\n",
    "\n",
    "glossary_terms_aspect = GlossaryTermsClass(\n",
    "    auditStamp=audit_stamp,\n",
    "    terms=[\n",
    "        GlossaryTermAssociationClass(\n",
    "            urn=glossary_term_urn,\n",
    "            actor=ACTOR_URN,\n",
    "            context= f'\"fieldPath\": \"{COLUMN_NAME}\"'\n",
    "            \n",
    "            ,  # use SchemaFieldKey\n",
    "            attribution=None,\n",
    "        )\n",
    "    ],\n",
    ")\n",
    "\n",
    "mcp = MetadataChangeProposalWrapper(\n",
    "    entityUrn=dataset_urn,\n",
    "    aspect=glossary_terms_aspect,\n",
    "    aspectName=\"glossaryTerms\",\n",
    ")\n",
    "\n",
    "emitter = DatahubRestEmitter(gms_server=DATAHUB_HOST)\n",
    "emitter.emit(mcp)\n",
    "\n",
    "print(f\"✅ Linked column '{COLUMN_NAME}' in dataset '{DATASET_NAME}' to glossary term '{GLOSSARY_TERM}'\")\n"
   ]
  },
  {
   "cell_type": "code",
   "execution_count": null,
   "id": "a43b9376",
   "metadata": {},
   "outputs": [],
   "source": []
  }
 ],
 "metadata": {
  "kernelspec": {
   "display_name": "old_datahub",
   "language": "python",
   "name": "python3"
  },
  "language_info": {
   "codemirror_mode": {
    "name": "ipython",
    "version": 3
   },
   "file_extension": ".py",
   "mimetype": "text/x-python",
   "name": "python",
   "nbconvert_exporter": "python",
   "pygments_lexer": "ipython3",
   "version": "3.12.4"
  }
 },
 "nbformat": 4,
 "nbformat_minor": 5
}
