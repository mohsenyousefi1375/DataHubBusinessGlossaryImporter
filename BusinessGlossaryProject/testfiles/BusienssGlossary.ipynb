{
 "cells": [
  {
   "cell_type": "code",
   "execution_count": null,
   "id": "60aad545",
   "metadata": {},
   "outputs": [
    {
     "name": "stdout",
     "output_type": "stream",
     "text": [
      "BusienssGlossary.ipynb  Utils.py  main.ipynb\n"
     ]
    }
   ],
   "source": []
  },
  {
   "cell_type": "code",
   "execution_count": 8,
   "id": "34f51e69",
   "metadata": {},
   "outputs": [
    {
     "name": "stderr",
     "output_type": "stream",
     "text": [
      "INFO:__main__:Created node: urn:li:glossaryNode:finance\n",
      "INFO:__main__:Created term: urn:li:glossaryTerm:test.[test].test2\n"
     ]
    }
   ],
   "source": [
    "import logging\n",
    "from datahub.emitter.mcp import MetadataChangeProposalWrapper\n",
    "from datahub.emitter.rest_emitter import DatahubRestEmitter\n",
    "\n",
    "from datahub.metadata.schema_classes import (\n",
    "    GlossaryNodeInfoClass,\n",
    "    GlossaryTermInfoClass,\n",
    ")\n",
    "\n",
    "# Setup logging and emitter\n",
    "log = logging.getLogger(__name__)\n",
    "logging.basicConfig(level=logging.INFO)\n",
    "rest_emitter = DatahubRestEmitter(gms_server=\"http://localhost:8080\")\n",
    "\n",
    "# ----- Step 1: Create Glossary Node (Group) -----\n",
    "node_name = \"finance\"\n",
    "node_urn = f\"urn:li:glossaryNode:{node_name}\"\n",
    "\n",
    "node_info = GlossaryNodeInfoClass(\n",
    "    name=node_name,\n",
    "    definition=\"Test Group Definition\",\n",
    "    parentNode=None  # You can nest nodes by providing another URN here\n",
    ")\n",
    "\n",
    "node_mcp = MetadataChangeProposalWrapper(\n",
    "    entityUrn=node_urn,\n",
    "    aspect=node_info\n",
    ")\n",
    "rest_emitter.emit(node_mcp)\n",
    "log.info(f\"Created node: {node_urn}\")\n",
    "\n",
    "# ----- Step 2: Create Glossary Term under that Node -----\n",
    "term_name = \"test.[test].test2\"\n",
    "term_urn = f\"urn:li:glossaryTerm:{term_name}\"\n",
    "\n",
    "term_info = GlossaryTermInfoClass(\n",
    "    definition=\"Rate of return is the net gain or loss of an investment.\",\n",
    "    name=\"test2\",\n",
    "    termSource=\"manual\",\n",
    "    parentNode=node_urn\n",
    ")\n",
    "\n",
    "term_mcp = MetadataChangeProposalWrapper(\n",
    "    entityUrn=term_urn,\n",
    "    aspect=term_info,\n",
    ")\n",
    "rest_emitter.emit(term_mcp)\n",
    "log.info(f\"Created term: {term_urn}\")\n"
   ]
  },
  {
   "cell_type": "code",
   "execution_count": null,
   "id": "3c093254",
   "metadata": {},
   "outputs": [
    {
     "name": "stderr",
     "output_type": "stream",
     "text": [
      "INFO:__main__:Created node: urn:li:glossaryNode:ops\n",
      "INFO:__main__:Created node: urn:li:glossaryNode:finance\n",
      "INFO:__main__:Created term: urn:li:glossaryTerm:test4\n"
     ]
    }
   ],
   "source": [
    "import logging\n",
    "from datahub.emitter.mcp import MetadataChangeProposalWrapper\n",
    "from datahub.emitter.rest_emitter import DatahubRestEmitter\n",
    "from datahub.metadata.schema_classes import (\n",
    "    GlossaryNodeInfoClass,\n",
    "    GlossaryTermInfoClass,\n",
    ")\n",
    "\n",
    "# Setup logging and emitter\n",
    "log = logging.getLogger(__name__)\n",
    "logging.basicConfig(level=logging.INFO)\n",
    "rest_emitter = DatahubRestEmitter(gms_server=\"http://localhost:8080\")\n",
    "\n",
    "# ----- Step 1: Create root node \"ops\" -----\n",
    "ops_node_name = \"ops\"\n",
    "ops_node_urn = f\"urn:li:glossaryNode:{ops_node_name}\"\n",
    "\n",
    "ops_node_info = GlossaryNodeInfoClass(\n",
    "    name=\"ops\",\n",
    "    parentNode=None,\n",
    "    definition=\"Operations folder\"\n",
    ")\n",
    "\n",
    "ops_node_mcp = MetadataChangeProposalWrapper(\n",
    "    entityUrn=ops_node_urn,\n",
    "    aspect=ops_node_info,\n",
    ")\n",
    "rest_emitter.emit(ops_node_mcp)\n",
    "log.info(f\"Created node: {ops_node_urn}\")\n",
    "\n",
    "# ----- Step 2: Create child node \"finance\" under \"ops\" -----\n",
    "finance_node_name = \"finance\"\n",
    "finance_node_urn = f\"urn:li:glossaryNode:{finance_node_name}\"\n",
    "\n",
    "finance_node_info = GlossaryNodeInfoClass(\n",
    "    name=\"finance\",\n",
    "    parentNode=ops_node_urn,\n",
    "    definition=\"Finance folder under ops\"\n",
    ")\n",
    "\n",
    "finance_node_mcp = MetadataChangeProposalWrapper(\n",
    "    entityUrn=finance_node_urn,\n",
    "    aspect=finance_node_info,\n",
    ")\n",
    "rest_emitter.emit(finance_node_mcp)\n",
    "log.info(f\"Created node: {finance_node_urn}\")\n",
    "\n",
    "\n",
    "\n",
    "\n",
    "\n",
    "\n",
    "# ----- Step 3: Create Glossary Term under \"finance\" -----\n",
    "term_name = \"test4\"\n",
    "term_urn = f\"urn:li:glossaryTerm:{term_name}\"\n",
    "\n",
    "term_info = GlossaryTermInfoClass(\n",
    "    definition=\"Rate of return is the net gain or loss of an investment.\",\n",
    "    name=term_name,\n",
    "    termSource=\"manual\",\n",
    "    parentNode=finance_node_urn\n",
    ")\n",
    "\n",
    "term_mcp = MetadataChangeProposalWrapper(\n",
    "    entityUrn=term_urn,\n",
    "    aspect=term_info,\n",
    ")\n",
    "rest_emitter.emit(term_mcp)\n",
    "log.info(f\"Created term: {term_urn}\")\n"
   ]
  },
  {
   "cell_type": "code",
   "execution_count": null,
   "id": "652e5eed",
   "metadata": {},
   "outputs": [],
   "source": []
  }
 ],
 "metadata": {
  "kernelspec": {
   "display_name": "datahub",
   "language": "python",
   "name": "python3"
  },
  "language_info": {
   "codemirror_mode": {
    "name": "ipython",
    "version": 3
   },
   "file_extension": ".py",
   "mimetype": "text/x-python",
   "name": "python",
   "nbconvert_exporter": "python",
   "pygments_lexer": "ipython3",
   "version": "3.12.4"
  }
 },
 "nbformat": 4,
 "nbformat_minor": 5
}
