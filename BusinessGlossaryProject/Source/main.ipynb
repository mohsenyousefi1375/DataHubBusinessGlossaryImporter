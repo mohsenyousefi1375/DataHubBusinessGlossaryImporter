{
 "cells": [
  {
   "cell_type": "code",
   "execution_count": 6,
   "id": "29ce334f",
   "metadata": {},
   "outputs": [
    {
     "name": "stderr",
     "output_type": "stream",
     "text": [
      "INFO:Service.Utils:Created node: urn:li:glossaryNode:operation\n",
      "INFO:Service.Utils:Created node: urn:li:glossaryNode:operation.general\n",
      "INFO:Service.Utils:Created term: urn:li:glossaryTerm:Driver5\n",
      "INFO:Service.Utils:Upserted group urn:li:corpGroup:Ops_team\n",
      "INFO:Service.Utils:Upserted group urn:li:corpGroup:BITEAM\n",
      "INFO:Service.Utils:Owner urn:li:corpGroup:BITEAM already exists, omitting write\n",
      "INFO:Service.Utils:Owner urn:li:corpGroup:Ops_team already exists, omitting write\n"
     ]
    },
    {
     "name": "stdout",
     "output_type": "stream",
     "text": [
      " Linked column 'columnName2' in dataset 'base_api.test15' to glossary term 'Driver5'\n"
     ]
    }
   ],
   "source": [
    "import yaml\n",
    "import sys, os\n",
    "sys.path.append(os.path.abspath(\"..\")) \n",
    "from Model.BusinessGlossaryModel import BusinessGlossaryModel \n",
    "from Service.DataHubGlossaryImporter import DataHubGlossaryImporter\n",
    "import Service.Utils as utils\n",
    "\n",
    "\n",
    "\n",
    "full_path = \"../Template/template_business_glossary.yaml\"\n",
    "\n",
    "if full_path.endswith(\".yaml\") : \n",
    "    \n",
    "    with open(full_path) as stream:\n",
    "        data = yaml.safe_load(stream)\n",
    "        dataset = BusinessGlossaryModel(**data)\n",
    "        importer  = DataHubGlossaryImporter(dataset)"
   ]
  },
  {
   "cell_type": "code",
   "execution_count": 4,
   "id": "34106383",
   "metadata": {},
   "outputs": [
    {
     "name": "stdout",
     "output_type": "stream",
     "text": [
      "['mysql', '127.0.0.1,3306', 'base_api.test15', 'columnName2']\n"
     ]
    }
   ],
   "source": [
    "test =  \"[mysql].[127.0.0.1,3306].[base_api.test15].[columnName2]\" \n",
    "\n",
    "technical_dataset= test.split('].[')\n",
    "\n",
    "technical_dataset = [item.replace(']', '').replace('[', '')  for item in technical_dataset]\n",
    "\n",
    "print(technical_dataset)"
   ]
  },
  {
   "cell_type": "code",
   "execution_count": null,
   "id": "b259c81f",
   "metadata": {},
   "outputs": [],
   "source": []
  }
 ],
 "metadata": {
  "kernelspec": {
   "display_name": "datahub",
   "language": "python",
   "name": "python3"
  },
  "language_info": {
   "codemirror_mode": {
    "name": "ipython",
    "version": 3
   },
   "file_extension": ".py",
   "mimetype": "text/x-python",
   "name": "python",
   "nbconvert_exporter": "python",
   "pygments_lexer": "ipython3",
   "version": "3.12.4"
  }
 },
 "nbformat": 4,
 "nbformat_minor": 5
}
